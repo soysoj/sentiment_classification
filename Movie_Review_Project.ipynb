{
 "cells": [
  {
   "cell_type": "code",
   "execution_count": 28,
   "id": "3175ed61",
   "metadata": {},
   "outputs": [],
   "source": [
    "import pandas as pd\n",
    "import konlpy\n",
    "import gensim"
   ]
  },
  {
   "cell_type": "code",
   "execution_count": 77,
   "id": "e39dff54",
   "metadata": {},
   "outputs": [
    {
     "data": {
      "text/html": [
       "<div>\n",
       "<style scoped>\n",
       "    .dataframe tbody tr th:only-of-type {\n",
       "        vertical-align: middle;\n",
       "    }\n",
       "\n",
       "    .dataframe tbody tr th {\n",
       "        vertical-align: top;\n",
       "    }\n",
       "\n",
       "    .dataframe thead th {\n",
       "        text-align: right;\n",
       "    }\n",
       "</style>\n",
       "<table border=\"1\" class=\"dataframe\">\n",
       "  <thead>\n",
       "    <tr style=\"text-align: right;\">\n",
       "      <th></th>\n",
       "      <th>id</th>\n",
       "      <th>document</th>\n",
       "      <th>label</th>\n",
       "    </tr>\n",
       "  </thead>\n",
       "  <tbody>\n",
       "    <tr>\n",
       "      <th>0</th>\n",
       "      <td>9976970</td>\n",
       "      <td>아 더빙.. 진짜 짜증나네요 목소리</td>\n",
       "      <td>0</td>\n",
       "    </tr>\n",
       "    <tr>\n",
       "      <th>1</th>\n",
       "      <td>3819312</td>\n",
       "      <td>흠...포스터보고 초딩영화줄....오버연기조차 가볍지 않구나</td>\n",
       "      <td>1</td>\n",
       "    </tr>\n",
       "    <tr>\n",
       "      <th>2</th>\n",
       "      <td>10265843</td>\n",
       "      <td>너무재밓었다그래서보는것을추천한다</td>\n",
       "      <td>0</td>\n",
       "    </tr>\n",
       "    <tr>\n",
       "      <th>3</th>\n",
       "      <td>9045019</td>\n",
       "      <td>교도소 이야기구먼 ..솔직히 재미는 없다..평점 조정</td>\n",
       "      <td>0</td>\n",
       "    </tr>\n",
       "    <tr>\n",
       "      <th>4</th>\n",
       "      <td>6483659</td>\n",
       "      <td>사이몬페그의 익살스런 연기가 돋보였던 영화!스파이더맨에서 늙어보이기만 했던 커스틴 ...</td>\n",
       "      <td>1</td>\n",
       "    </tr>\n",
       "  </tbody>\n",
       "</table>\n",
       "</div>"
      ],
      "text/plain": [
       "         id                                           document  label\n",
       "0   9976970                                아 더빙.. 진짜 짜증나네요 목소리      0\n",
       "1   3819312                  흠...포스터보고 초딩영화줄....오버연기조차 가볍지 않구나      1\n",
       "2  10265843                                  너무재밓었다그래서보는것을추천한다      0\n",
       "3   9045019                      교도소 이야기구먼 ..솔직히 재미는 없다..평점 조정      0\n",
       "4   6483659  사이몬페그의 익살스런 연기가 돋보였던 영화!스파이더맨에서 늙어보이기만 했던 커스틴 ...      1"
      ]
     },
     "execution_count": 77,
     "metadata": {},
     "output_type": "execute_result"
    }
   ],
   "source": [
    "# 데이터를 읽어봅시다. \n",
    "train_data = pd.read_table('~/aiffel/sentiment_classification/data/ratings_train.txt')\n",
    "test_data = pd.read_table('~/aiffel/sentiment_classification/data/ratings_test.txt')\n",
    "\n",
    "train_data.head()"
   ]
  },
  {
   "cell_type": "markdown",
   "id": "e81989c8",
   "metadata": {},
   "source": [
    "## 데이터 전처리"
   ]
  },
  {
   "cell_type": "markdown",
   "id": "7098cc53",
   "metadata": {},
   "source": [
    "* 데이터의 중복 제거\n",
    "* NaN 결측치 제거\n",
    "* 한국어 토크나이저로 토큰화\n",
    "* 불용어(Stopwords) 제거\n",
    "* 사전word_to_index 구성\n",
    "* 텍스트 스트링을 사전 인덱스 스트링으로 변환\n",
    "* X_train, y_train, X_test, y_test, word_to_index 리턴"
   ]
  },
  {
   "cell_type": "code",
   "execution_count": 78,
   "id": "a492d1f5",
   "metadata": {},
   "outputs": [],
   "source": [
    "from konlpy.tag import Mecab\n",
    "import numpy as np\n",
    "from collections import Counter\n",
    "\n",
    "tokenizer = Mecab()\n",
    "stopwords = ['의','가','이','은','들','는','좀','잘','걍','과','도','를','으로','자','에','와','한','하다']\n",
    "\n",
    "def load_data(train_data, test_data, num_words=10000):\n",
    "    #중복 제거 & 결측치 제거\n",
    "    train_data.drop_duplicates(subset=['document'], inplace=True)\n",
    "    train_data = train_data.dropna(how = 'any') \n",
    "    test_data.drop_duplicates(subset=['document'], inplace=True)\n",
    "    test_data = test_data.dropna(how = 'any') \n",
    "    \n",
    "    X_train = []\n",
    "    # 토큰화하기 & 불용어 제거\n",
    "    for sentence in train_data['document']:\n",
    "        temp_X = tokenizer.morphs(sentence) # 토큰화\n",
    "        temp_X = [word for word in temp_X if not word in stopwords] # 불용어 제거\n",
    "        X_train.append(temp_X)\n",
    "\n",
    "    X_test = []\n",
    "    for sentence in test_data['document']:\n",
    "        temp_X = tokenizer.morphs(sentence) # 토큰화\n",
    "        temp_X = [word for word in temp_X if not word in stopwords] # 불용어 제거\n",
    "        X_test.append(temp_X)\n",
    "    \n",
    "    # dictionary with index\n",
    "    words = np.concatenate(X_train).tolist()\n",
    "    counter = Counter(words)\n",
    "    counter = counter.most_common(10000-4)\n",
    "    vocab = ['', '', '', ''] + [key for key, _ in counter]\n",
    "    word_to_index = {word:index for index, word in enumerate(vocab)}\n",
    "    \n",
    "    #convert word into index function\n",
    "    def wordlist_to_indexlist(wordlist):\n",
    "        return [word_to_index[word] if word in word_to_index else word_to_index[''] for word in wordlist]\n",
    "        \n",
    "    X_train = list(map(wordlist_to_indexlist, X_train))\n",
    "    X_test = list(map(wordlist_to_indexlist, X_test))\n",
    "        \n",
    "    return X_train, np.array(list(train_data['label'])), X_test, np.array(list(test_data['label'])), word_to_index\n",
    "    \n",
    "X_train, y_train, X_test, y_test, word_to_index = load_data(train_data, test_data)"
   ]
  },
  {
   "cell_type": "code",
   "execution_count": 79,
   "id": "62e3f6e8",
   "metadata": {},
   "outputs": [],
   "source": [
    "# 문장 1개를 활용할 딕셔너리와 함께 주면, 단어 인덱스 리스트 벡터로 변환해 주는 함수입니다. \n",
    "# 단, 모든 문장은 <BOS>로 시작하는 것으로 합니다. \n",
    "def get_encoded_sentence(sentence, word_to_index):\n",
    "    return [word_to_index['<BOS>']]+[word_to_index[word] if word in word_to_index else word_to_index['<UNK>'] for word in sentence.split()]\n",
    "\n",
    "# 여러 개의 문장 리스트를 한꺼번에 단어 인덱스 리스트 벡터로 encode해 주는 함수입니다. \n",
    "def get_encoded_sentences(sentences, word_to_index):\n",
    "    return [get_encoded_sentence(sentence, word_to_index) for sentence in sentences]\n",
    "\n",
    "# 숫자 벡터로 encode된 문장을 원래대로 decode하는 함수입니다. \n",
    "def get_decoded_sentence(encoded_sentence, index_to_word):\n",
    "    return ' '.join(index_to_word[index] if index in index_to_word else '<UNK>' for index in encoded_sentence[1:])  #[1:]를 통해 <BOS>를 제외\n",
    "\n",
    "# 여러 개의 숫자 벡터로 encode된 문장을 한꺼번에 원래대로 decode하는 함수입니다. \n",
    "def get_decoded_sentences(encoded_sentences, index_to_word):\n",
    "    return [get_decoded_sentence(encoded_sentence, index_to_word) for encoded_sentence in encoded_sentences]"
   ]
  },
  {
   "cell_type": "markdown",
   "id": "72bbf8b5",
   "metadata": {},
   "source": [
    "### 모델 구성을 위한 데이터 분석 및 가공\n",
    "* 데이터 셋 문장 길이 분포\n",
    "* 적절한 최대 문장 길이 지정\n",
    "* 패딩 추가"
   ]
  },
  {
   "cell_type": "code",
   "execution_count": 32,
   "id": "18ce3ef2",
   "metadata": {},
   "outputs": [
    {
     "data": {
      "text/plain": [
       "146182"
      ]
     },
     "execution_count": 32,
     "metadata": {},
     "output_type": "execute_result"
    }
   ],
   "source": [
    "len(X_train)"
   ]
  },
  {
   "cell_type": "code",
   "execution_count": 69,
   "id": "deb55c6d",
   "metadata": {},
   "outputs": [],
   "source": [
    "lengths = [len(sentence) for sentence in X_train]"
   ]
  },
  {
   "cell_type": "code",
   "execution_count": 70,
   "id": "1c81aafc",
   "metadata": {},
   "outputs": [
    {
     "data": {
      "image/png": "[encoded data removed]",
      "text/plain": [
       "<Figure size 432x288 with 1 Axes>"
      ]
     },
     "metadata": {
      "needs_background": "light"
     },
     "output_type": "display_data"
    }
   ],
   "source": [
    "import matplotlib.pyplot as plt\n",
    "# 문장 길이 분포 확인\n",
    "plt.hist(lengths, bins=50)\n",
    "plt.xlabel('Sentence Length')\n",
    "plt.ylabel('Frequency')\n",
    "plt.title('Sentence Length Distribution')\n",
    "plt.show()"
   ]
  },
  {
   "cell_type": "code",
   "execution_count": 80,
   "id": "a72ec230",
   "metadata": {},
   "outputs": [
    {
     "name": "stdout",
     "output_type": "stream",
     "text": [
      "50 퍼센타일: 12 글자\n",
      "75 퍼센타일: 19 글자\n",
      "90 퍼센타일: 33 글자\n",
      "95 퍼센타일: 47 글자\n",
      "99 퍼센타일: 61 글자\n",
      "적절한 문장 최대 길이(maxlen): 47\n"
     ]
    }
   ],
   "source": [
    "percentiles = [50, 75, 90, 95, 99]\n",
    "for percentile in percentiles:\n",
    "    print(f'{percentile} 퍼센타일: {int(np.percentile(lengths, percentile))} 글자')\n",
    "\n",
    "# 상위 95% 문장을 포함할 수 있는 최대 길이\n",
    "maxlen = int(np.percentile(lengths, 95))\n",
    "print(f'적절한 문장 최대 길이(maxlen): {maxlen}')"
   ]
  },
  {
   "cell_type": "code",
   "execution_count": 81,
   "id": "a5bdad61",
   "metadata": {},
   "outputs": [
    {
     "name": "stdout",
     "output_type": "stream",
     "text": [
      "문장길이 평균 :  15.96940191154864\n",
      "문장길이 최대 :  116\n",
      "문장길이 표준편차 :  12.843571191092\n",
      "pad_sequences maxlen :  41\n",
      "전체 문장의 0.9342988343341575%가 maxlen 설정값 이내에 포함됩니다. \n"
     ]
    }
   ],
   "source": [
    "total_data_text = list(X_train) + list(X_test)\n",
    "# 텍스트데이터 문장길이의 리스트를 생성한 후\n",
    "num_tokens = [len(tokens) for tokens in total_data_text]\n",
    "num_tokens = np.array(num_tokens)\n",
    "# 문장길이의 평균값, 최대값, 표준편차를 계산해 본다. \n",
    "print('문장길이 평균 : ', np.mean(num_tokens))\n",
    "print('문장길이 최대 : ', np.max(num_tokens))\n",
    "print('문장길이 표준편차 : ', np.std(num_tokens))\n",
    "\n",
    "# 예를들어, 최대 길이를 (평균 + 2*표준편차)로 한다면,  \n",
    "max_tokens = np.mean(num_tokens) + 2 * np.std(num_tokens)\n",
    "max_len = int(max_tokens)\n",
    "print('pad_sequences maxlen : ', max_len)\n",
    "print(f'전체 문장의 {np.sum(num_tokens < max_tokens) / len(num_tokens)}%가 maxlen 설정값 이내에 포함됩니다. ')"
   ]
  },
  {
   "cell_type": "code",
   "execution_count": 82,
   "id": "b478586a",
   "metadata": {},
   "outputs": [],
   "source": [
    "#실제 인코딩 인덱스는 제공된 word_to_index에서 index 기준으로 3씩 뒤로 밀려 있습니다.  \n",
    "word_to_index = {k:(v+3) for k,v in word_to_index.items()}\n",
    "\n",
    "# 처음 몇 개 인덱스는 사전에 정의되어 있습니다.\n",
    "word_to_index[\"<PAD>\"] = 0\n",
    "word_to_index[\"<BOS>\"] = 1\n",
    "word_to_index[\"<UNK>\"] = 2  # unknown\n",
    "word_to_index[\"<UNUSED>\"] = 3\n",
    "\n",
    "index_to_word = {index:word for word, index in word_to_index.items()}"
   ]
  },
  {
   "cell_type": "code",
   "execution_count": 83,
   "id": "04e72a0c",
   "metadata": {},
   "outputs": [],
   "source": [
    "from keras_preprocessing.sequence import pad_sequences\n",
    "from tensorflow.keras.layers import Embedding\n",
    "# embedding\n",
    "vocab_size = len(word_to_index)\n",
    "word_vector_dim = 4 # Suppose that embedding vector's dimension : 4\n",
    "\n",
    "embedding = Embedding(input_dim = vocab_size, output_dim = word_vector_dim, mask_zero = True)\n",
    "\n",
    "X_train = np.array(X_train, dtype = 'object')\n",
    "X_train = pad_sequences(raw_inputs, value = word_to_index['<PAD>'], padding='pre', maxlen=maxlen)\n",
    "output_tr = embedding(X_train)\n",
    "\n",
    "X_test = np.array(X_test, dtype = 'object')\n",
    "X_test = pad_sequences(X_test, value = word_to_index['<PAD>'], padding='pre', maxlen=maxlen)\n",
    "output_te = embedding(X_test)"
   ]
  },
  {
   "cell_type": "markdown",
   "id": "9e115778",
   "metadata": {},
   "source": [
    "### 모델 구성 및 validation set 구성"
   ]
  },
  {
   "cell_type": "code",
   "execution_count": 84,
   "id": "e9f48b64",
   "metadata": {},
   "outputs": [],
   "source": [
    "from sklearn.model_selection import train_test_split\n",
    "\n",
    "X_train, X_val, y_train, y_val = train_test_split(X_train, y_train, test_size = 0.2, random_state=42)"
   ]
  },
  {
   "cell_type": "code",
   "execution_count": 85,
   "id": "dd8c162d",
   "metadata": {},
   "outputs": [],
   "source": [
    "from keras.models import Sequential\n",
    "from keras.layers import Embedding, LSTM, Dense, Dropout, Conv1D, GlobalMaxPooling1D\n",
    "from tensorflow.keras.optimizers import Adam"
   ]
  },
  {
   "cell_type": "markdown",
   "id": "283739c3",
   "metadata": {},
   "source": [
    "### tf-idf를 사용한 로지스틱 회귀 사용"
   ]
  },
  {
   "cell_type": "code",
   "execution_count": 86,
   "id": "cf9cdecf",
   "metadata": {},
   "outputs": [
    {
     "ename": "NameError",
     "evalue": "name 'TextVectoriztion' is not defined",
     "output_type": "error",
     "traceback": [
      "\u001b[0;31m---------------------------------------------------------------------------\u001b[0m",
      "\u001b[0;31mNameError\u001b[0m                                 Traceback (most recent call last)",
      "\u001b[0;32m/tmp/ipykernel_34/1321792106.py\u001b[0m in \u001b[0;36m<module>\u001b[0;34m\u001b[0m\n\u001b[1;32m      1\u001b[0m \u001b[0;32mfrom\u001b[0m \u001b[0mtensorflow\u001b[0m\u001b[0;34m.\u001b[0m\u001b[0mkeras\u001b[0m\u001b[0;34m.\u001b[0m\u001b[0mlayers\u001b[0m\u001b[0;34m.\u001b[0m\u001b[0mexperimental\u001b[0m\u001b[0;34m.\u001b[0m\u001b[0mpreprocessing\u001b[0m \u001b[0;32mimport\u001b[0m \u001b[0mTextVectorization\u001b[0m\u001b[0;34m\u001b[0m\u001b[0;34m\u001b[0m\u001b[0m\n\u001b[1;32m      2\u001b[0m \u001b[0;34m\u001b[0m\u001b[0m\n\u001b[0;32m----> 3\u001b[0;31m \u001b[0mvectorizer\u001b[0m \u001b[0;34m=\u001b[0m \u001b[0mTextVectoriztion\u001b[0m\u001b[0;34m(\u001b[0m\u001b[0;34m)\u001b[0m\u001b[0;34m\u001b[0m\u001b[0;34m\u001b[0m\u001b[0m\n\u001b[0m\u001b[1;32m      4\u001b[0m \u001b[0mX_train_tfidf\u001b[0m \u001b[0;34m=\u001b[0m \u001b[0mvectorizer\u001b[0m\u001b[0;34m\u001b[0m\u001b[0;34m\u001b[0m\u001b[0m\n",
      "\u001b[0;31mNameError\u001b[0m: name 'TextVectoriztion' is not defined"
     ]
    }
   ],
   "source": [
    "from tensorflow.keras.layers.experimental.preprocessing import TextVectorization\n",
    "\n",
    "vectorizer = TextVectoriztion()\n",
    "X_train_tfidf = vectorizer"
   ]
  },
  {
   "cell_type": "markdown",
   "id": "ef1a3592",
   "metadata": {},
   "source": [
    "### LSTM 모델 사용"
   ]
  },
  {
   "cell_type": "code",
   "execution_count": 92,
   "id": "d9d70350",
   "metadata": {},
   "outputs": [],
   "source": [
    "def lstm_model(vocab_size, embedding_dim, maxlen):\n",
    "    model = Sequential()\n",
    "    model.add(Embedding(input_dim = vocab_size, output_dim = embedding_dim, input_shape = (None,)))\n",
    "    model.add(LSTM(128)) #벡터의 차원수 변경 가능\n",
    "    model.add(Dropout(0.5))\n",
    "    model.add(Dense(1, activation = 'sigmoid'))\n",
    "    model.compile(optimizer = Adam(learning_rate = 0.001), loss = 'binary_crossentropy', metrics = ['accuracy'])\n",
    "    return model"
   ]
  },
  {
   "cell_type": "markdown",
   "id": "51e489ec",
   "metadata": {},
   "source": [
    "#### 모델 훈련 개시"
   ]
  },
  {
   "cell_type": "markdown",
   "id": "386d95b8",
   "metadata": {},
   "source": [
    "#### Epoch: 15"
   ]
  },
  {
   "cell_type": "code",
   "execution_count": 93,
   "id": "3e558354",
   "metadata": {},
   "outputs": [
    {
     "name": "stdout",
     "output_type": "stream",
     "text": [
      "Epoch 1/15\n",
      "1828/1828 [==============================] - 12s 6ms/step - loss: 0.4089 - accuracy: 0.8121 - val_loss: 0.3553 - val_accuracy: 0.8461\n",
      "Epoch 2/15\n",
      "1828/1828 [==============================] - 11s 6ms/step - loss: 0.3356 - accuracy: 0.8574 - val_loss: 0.3509 - val_accuracy: 0.8476\n",
      "Epoch 3/15\n",
      "1828/1828 [==============================] - 11s 6ms/step - loss: 0.3180 - accuracy: 0.8662 - val_loss: 0.3462 - val_accuracy: 0.8507\n",
      "Epoch 4/15\n",
      "1828/1828 [==============================] - 11s 6ms/step - loss: 0.3020 - accuracy: 0.8737 - val_loss: 0.3466 - val_accuracy: 0.8534\n",
      "Epoch 5/15\n",
      "1828/1828 [==============================] - 11s 6ms/step - loss: 0.2867 - accuracy: 0.8810 - val_loss: 0.3366 - val_accuracy: 0.8554\n",
      "Epoch 6/15\n",
      "1828/1828 [==============================] - 10s 6ms/step - loss: 0.2712 - accuracy: 0.8882 - val_loss: 0.3598 - val_accuracy: 0.8551\n",
      "Epoch 7/15\n",
      "1828/1828 [==============================] - 10s 6ms/step - loss: 0.2554 - accuracy: 0.8958 - val_loss: 0.3375 - val_accuracy: 0.8559\n",
      "Epoch 8/15\n",
      "1828/1828 [==============================] - 10s 6ms/step - loss: 0.2409 - accuracy: 0.9022 - val_loss: 0.3498 - val_accuracy: 0.8555\n",
      "Epoch 9/15\n",
      "1828/1828 [==============================] - 11s 6ms/step - loss: 0.2295 - accuracy: 0.9076 - val_loss: 0.3536 - val_accuracy: 0.8530\n",
      "Epoch 10/15\n",
      "1828/1828 [==============================] - 11s 6ms/step - loss: 0.2195 - accuracy: 0.9116 - val_loss: 0.3760 - val_accuracy: 0.8532\n",
      "Epoch 11/15\n",
      "1828/1828 [==============================] - 10s 6ms/step - loss: 0.2102 - accuracy: 0.9161 - val_loss: 0.3810 - val_accuracy: 0.8497\n",
      "Epoch 12/15\n",
      "1828/1828 [==============================] - 10s 6ms/step - loss: 0.2014 - accuracy: 0.9207 - val_loss: 0.4078 - val_accuracy: 0.8460\n",
      "Epoch 13/15\n",
      "1828/1828 [==============================] - 10s 6ms/step - loss: 0.1945 - accuracy: 0.9238 - val_loss: 0.4291 - val_accuracy: 0.8466\n",
      "Epoch 14/15\n",
      "1828/1828 [==============================] - 10s 6ms/step - loss: 0.1857 - accuracy: 0.9271 - val_loss: 0.4160 - val_accuracy: 0.8460\n",
      "Epoch 15/15\n",
      "1828/1828 [==============================] - 11s 6ms/step - loss: 0.1783 - accuracy: 0.9300 - val_loss: 0.4720 - val_accuracy: 0.8446\n"
     ]
    }
   ],
   "source": [
    "model = lstm_model(vocab_size, word_vector_dim, maxlen)\n",
    "history = model.fit(np.array(X_train), np.array(y_train), validation_data = (np.array(X_val), np.array(y_val)), epochs = 15, batch_size = 64 )"
   ]
  },
  {
   "cell_type": "code",
   "execution_count": 94,
   "id": "37117925",
   "metadata": {},
   "outputs": [],
   "source": [
    "history_dict = history.history\n",
    "acc = history_dict['accuracy']\n",
    "val_acc = history_dict['val_accuracy']\n",
    "loss = history_dict['loss']\n",
    "val_loss = history_dict['val_loss']"
   ]
  },
  {
   "cell_type": "markdown",
   "id": "676e1a73",
   "metadata": {},
   "source": [
    "#### Loss, Accuracy 그래프 시각화"
   ]
  },
  {
   "cell_type": "code",
   "execution_count": 95,
   "id": "7b759c6e",
   "metadata": {},
   "outputs": [
    {
     "data": {
      "image/png": "[encoded data removed]",
      "text/plain": [
       "<Figure size 432x288 with 1 Axes>"
      ]
     },
     "metadata": {
      "needs_background": "light"
     },
     "output_type": "display_data"
    }
   ],
   "source": [
    "epochs = range(1, len(acc) +1)\n",
    "# \"bo\"는 \"파란색 점\"입니다\n",
    "plt.plot(epochs, loss, 'bo', label='Training loss')\n",
    "# b는 \"파란 실선\"입니다\n",
    "plt.plot(epochs, val_loss, 'b', label='Validation loss')\n",
    "plt.title('Training and validation loss')\n",
    "plt.xlabel('Epochs')\n",
    "plt.ylabel('Loss')\n",
    "plt.legend()\n",
    "\n",
    "plt.show()"
   ]
  },
  {
   "cell_type": "code",
   "execution_count": 96,
   "id": "ffe22f57",
   "metadata": {},
   "outputs": [
    {
     "data": {
      "image/png": "[encoded data removed]",
      "text/plain": [
       "<Figure size 432x288 with 1 Axes>"
      ]
     },
     "metadata": {
      "needs_background": "light"
     },
     "output_type": "display_data"
    }
   ],
   "source": [
    "plt.clf()   # 그림을 초기화합니다\n",
    "\n",
    "plt.plot(epochs, acc, 'bo', label='Training acc')\n",
    "plt.plot(epochs, val_acc, 'b', label='Validation acc')\n",
    "plt.title('Training and validation accuracy')\n",
    "plt.xlabel('Epochs')\n",
    "plt.ylabel('Accuracy')\n",
    "plt.legend()\n",
    "\n",
    "plt.show()"
   ]
  },
  {
   "cell_type": "markdown",
   "id": "fa7759e6",
   "metadata": {},
   "source": [
    "#### Epoch: 20"
   ]
  },
  {
   "cell_type": "code",
   "execution_count": 87,
   "id": "87395d30",
   "metadata": {},
   "outputs": [],
   "source": [
    "def lstm_model(vocab_size, embedding_dim, maxlen):\n",
    "    model = Sequential()\n",
    "    model.add(Embedding(input_dim = vocab_size, output_dim = embedding_dim, input_shape = (None,)))\n",
    "    model.add(LSTM(128)) #벡터의 차원수 변경 가능\n",
    "    model.add(Dropout(0.5))\n",
    "    model.add(Dense(1, activation = 'sigmoid'))\n",
    "    model.compile(optimizer = Adam(learning_rate = 0.001), loss = 'binary_crossentropy', metrics = ['accuracy'])\n",
    "    return model"
   ]
  },
  {
   "cell_type": "markdown",
   "id": "34c66097",
   "metadata": {},
   "source": [
    "#### 모델 훈련 개시"
   ]
  },
  {
   "cell_type": "code",
   "execution_count": 88,
   "id": "186a36cf",
   "metadata": {},
   "outputs": [
    {
     "name": "stdout",
     "output_type": "stream",
     "text": [
      "Epoch 1/20\n",
      "1828/1828 [==============================] - 18s 6ms/step - loss: 0.4074 - accuracy: 0.8148 - val_loss: 0.3622 - val_accuracy: 0.8428\n",
      "Epoch 2/20\n",
      "1828/1828 [==============================] - 11s 6ms/step - loss: 0.3361 - accuracy: 0.8574 - val_loss: 0.3509 - val_accuracy: 0.8478\n",
      "Epoch 3/20\n",
      "1828/1828 [==============================] - 11s 6ms/step - loss: 0.3160 - accuracy: 0.8668 - val_loss: 0.3417 - val_accuracy: 0.8521\n",
      "Epoch 4/20\n",
      "1828/1828 [==============================] - 11s 6ms/step - loss: 0.2998 - accuracy: 0.8751 - val_loss: 0.3394 - val_accuracy: 0.8537\n",
      "Epoch 5/20\n",
      "1828/1828 [==============================] - 10s 6ms/step - loss: 0.2847 - accuracy: 0.8811 - val_loss: 0.3452 - val_accuracy: 0.8546\n",
      "Epoch 6/20\n",
      "1828/1828 [==============================] - 10s 6ms/step - loss: 0.2688 - accuracy: 0.8892 - val_loss: 0.3633 - val_accuracy: 0.8537\n",
      "Epoch 7/20\n",
      "1828/1828 [==============================] - 11s 6ms/step - loss: 0.2536 - accuracy: 0.8960 - val_loss: 0.3529 - val_accuracy: 0.8555\n",
      "Epoch 8/20\n",
      "1828/1828 [==============================] - 11s 6ms/step - loss: 0.2393 - accuracy: 0.9027 - val_loss: 0.3590 - val_accuracy: 0.8539\n",
      "Epoch 9/20\n",
      "1828/1828 [==============================] - 10s 6ms/step - loss: 0.2289 - accuracy: 0.9075 - val_loss: 0.3714 - val_accuracy: 0.8508\n",
      "Epoch 10/20\n",
      "1828/1828 [==============================] - 10s 6ms/step - loss: 0.2193 - accuracy: 0.9121 - val_loss: 0.3835 - val_accuracy: 0.8512\n",
      "Epoch 11/20\n",
      "1828/1828 [==============================] - 10s 6ms/step - loss: 0.2104 - accuracy: 0.9156 - val_loss: 0.3884 - val_accuracy: 0.8500\n",
      "Epoch 12/20\n",
      "1828/1828 [==============================] - 10s 6ms/step - loss: 0.2031 - accuracy: 0.9191 - val_loss: 0.4098 - val_accuracy: 0.8475\n",
      "Epoch 13/20\n",
      "1828/1828 [==============================] - 11s 6ms/step - loss: 0.1966 - accuracy: 0.9225 - val_loss: 0.4169 - val_accuracy: 0.8449\n",
      "Epoch 14/20\n",
      "1828/1828 [==============================] - 10s 6ms/step - loss: 0.1894 - accuracy: 0.9257 - val_loss: 0.4638 - val_accuracy: 0.8428\n",
      "Epoch 15/20\n",
      "1828/1828 [==============================] - 11s 6ms/step - loss: 0.1824 - accuracy: 0.9285 - val_loss: 0.4651 - val_accuracy: 0.8396\n",
      "Epoch 16/20\n",
      "1828/1828 [==============================] - 10s 6ms/step - loss: 0.1759 - accuracy: 0.9314 - val_loss: 0.4609 - val_accuracy: 0.8387\n",
      "Epoch 17/20\n",
      "1828/1828 [==============================] - 10s 6ms/step - loss: 0.1713 - accuracy: 0.9337 - val_loss: 0.4875 - val_accuracy: 0.8393\n",
      "Epoch 18/20\n",
      "1828/1828 [==============================] - 10s 6ms/step - loss: 0.1640 - accuracy: 0.9366 - val_loss: 0.4864 - val_accuracy: 0.8400\n",
      "Epoch 19/20\n",
      "1828/1828 [==============================] - 11s 6ms/step - loss: 0.1593 - accuracy: 0.9392 - val_loss: 0.5292 - val_accuracy: 0.8369\n",
      "Epoch 20/20\n",
      "1828/1828 [==============================] - 10s 6ms/step - loss: 0.1547 - accuracy: 0.9406 - val_loss: 0.5337 - val_accuracy: 0.8376\n"
     ]
    }
   ],
   "source": [
    "model = lstm_model(vocab_size, word_vector_dim, maxlen)\n",
    "history = model.fit(np.array(X_train), np.array(y_train), validation_data = (np.array(X_val), np.array(y_val)), epochs = 20, batch_size = 64 )"
   ]
  },
  {
   "cell_type": "code",
   "execution_count": 89,
   "id": "02541997",
   "metadata": {},
   "outputs": [],
   "source": [
    "history_dict = history.history\n",
    "acc = history_dict['accuracy']\n",
    "val_acc = history_dict['val_accuracy']\n",
    "loss = history_dict['loss']\n",
    "val_loss = history_dict['val_loss']"
   ]
  },
  {
   "cell_type": "markdown",
   "id": "c7a0b7e9",
   "metadata": {},
   "source": [
    "#### Loss, Accuracy 그래프 시각화"
   ]
  },
  {
   "cell_type": "code",
   "execution_count": 90,
   "id": "70f53f9e",
   "metadata": {},
   "outputs": [
    {
     "data": {
      "image/png": "[encoded data removed]",
      "text/plain": [
       "<Figure size 432x288 with 1 Axes>"
      ]
     },
     "metadata": {
      "needs_background": "light"
     },
     "output_type": "display_data"
    }
   ],
   "source": [
    "epochs = range(1, len(acc) +1)\n",
    "# \"bo\"는 \"파란색 점\"입니다\n",
    "plt.plot(epochs, loss, 'bo', label='Training loss')\n",
    "# b는 \"파란 실선\"입니다\n",
    "plt.plot(epochs, val_loss, 'b', label='Validation loss')\n",
    "plt.title('Training and validation loss')\n",
    "plt.xlabel('Epochs')\n",
    "plt.ylabel('Loss')\n",
    "plt.legend()\n",
    "\n",
    "plt.show()"
   ]
  },
  {
   "cell_type": "code",
   "execution_count": 91,
   "id": "5c78b8e3",
   "metadata": {},
   "outputs": [
    {
     "data": {
      "image/png": "[encoded data removed]",
      "text/plain": [
       "<Figure size 432x288 with 1 Axes>"
      ]
     },
     "metadata": {
      "needs_background": "light"
     },
     "output_type": "display_data"
    }
   ],
   "source": [
    "plt.clf()   # 그림을 초기화합니다\n",
    "\n",
    "plt.plot(epochs, acc, 'bo', label='Training acc')\n",
    "plt.plot(epochs, val_acc, 'b', label='Validation acc')\n",
    "plt.title('Training and validation accuracy')\n",
    "plt.xlabel('Epochs')\n",
    "plt.ylabel('Accuracy')\n",
    "plt.legend()\n",
    "\n",
    "plt.show()"
   ]
  },
  {
   "cell_type": "markdown",
   "id": "bbcff37c",
   "metadata": {},
   "source": [
    "#### CNN 모델 사용"
   ]
  },
  {
   "cell_type": "markdown",
   "id": "aee10530",
   "metadata": {},
   "source": [
    "#### BERT 모델 사용"
   ]
  },
  {
   "cell_type": "markdown",
   "id": "896d6a24",
   "metadata": {},
   "source": [
    "### 학습된 Embedding 레이어 분석"
   ]
  },
  {
   "cell_type": "markdown",
   "id": "8da1f849",
   "metadata": {},
   "source": [
    "### 한국어 Word2Vec 임베딩 활용하여 성능 개선"
   ]
  },
  {
   "cell_type": "code",
   "execution_count": null,
   "id": "6c95c0dc",
   "metadata": {},
   "outputs": [],
   "source": [
    "from gensim.models.keyedvectors import Word2VecKeyedVectors\n",
    "word_vectors = Word2VecKeyedVectors.load(word2vec_file_path)"
   ]
  },
  {
   "cell_type": "markdown",
   "id": "3b9d3f77",
   "metadata": {},
   "source": [
    "아쉬운 점: 많은 모델을 실험해보지 못해 매우 아쉬움. 또한 데이터 전처리도 대충하고 넘어가서 아쉽다.\n",
    "배운 점: max length를 다양하게 잡을 수 있다는 것. LSTM에서 유닛수를 다르게 하면 다양한 결과가 나온다는 점이 인상적이다.\n"
   ]
  },
  {
   "cell_type": "code",
   "execution_count": null,
   "id": "8cf146b0",
   "metadata": {},
   "outputs": [],
   "source": []
  }
 ],
 "metadata": {
  "kernelspec": {
   "display_name": "Python 3 (ipykernel)",
   "language": "python",
   "name": "python3"
  },
  "language_info": {
   "codemirror_mode": {
    "name": "ipython",
    "version": 3
   },
   "file_extension": ".py",
   "mimetype": "text/x-python",
   "name": "python",
   "nbconvert_exporter": "python",
   "pygments_lexer": "ipython3",
   "version": "3.9.7"
  }
 },
 "nbformat": 4,
 "nbformat_minor": 5
}
